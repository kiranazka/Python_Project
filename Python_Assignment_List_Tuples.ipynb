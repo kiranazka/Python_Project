{
  "nbformat": 4,
  "nbformat_minor": 0,
  "metadata": {
    "colab": {
      "provenance": [],
      "authorship_tag": "ABX9TyMoMpDrMZiKQAhHsPj4D3xP",
      "include_colab_link": true
    },
    "kernelspec": {
      "name": "python3",
      "display_name": "Python 3"
    },
    "language_info": {
      "name": "python"
    }
  },
  "cells": [
    {
      "cell_type": "markdown",
      "metadata": {
        "id": "view-in-github",
        "colab_type": "text"
      },
      "source": [
        "<a href=\"https://colab.research.google.com/github/kiranazka/45-Assignment-/blob/main/Python_Assignment_List_Tuples.ipynb\" target=\"_parent\"><img src=\"https://colab.research.google.com/assets/colab-badge.svg\" alt=\"Open In Colab\"/></a>"
      ]
    },
    {
      "cell_type": "code",
      "execution_count": null,
      "metadata": {
        "id": "8_z20a0Eo4Rx"
      },
      "outputs": [],
      "source": []
    },
    {
      "cell_type": "markdown",
      "source": [
        "# **Basic List Operations**"
      ],
      "metadata": {
        "id": "kK12F1HSo5lV"
      }
    },
    {
      "cell_type": "markdown",
      "source": [
        "1. Create a list of five numbers and append a new number to it. Print the updated list."
      ],
      "metadata": {
        "id": "MISu90itpPQw"
      }
    },
    {
      "cell_type": "code",
      "source": [
        "five_numbers = [1,2,3,4,5]\n",
        "five_numbers.append(6)\n",
        "print(five_numbers)"
      ],
      "metadata": {
        "colab": {
          "base_uri": "https://localhost:8080/"
        },
        "id": "Eso_zDDHpZ7l",
        "outputId": "e36505eb-73f3-4aea-a3cb-02b1d1aaea91"
      },
      "execution_count": null,
      "outputs": [
        {
          "output_type": "stream",
          "name": "stdout",
          "text": [
            "[1, 2, 3, 4, 5, 6]\n"
          ]
        }
      ]
    },
    {
      "cell_type": "markdown",
      "source": [
        "\n",
        "2. Extend a list [1, 2, 3] with another list [4, 5, 6]. Print the result."
      ],
      "metadata": {
        "id": "BxwNSbLtqevb"
      }
    },
    {
      "cell_type": "code",
      "source": [
        "list1 = [1,2,3]\n",
        "list2 = [4,5,6]\n",
        "list1.extend (list2)\n",
        "print(list1)"
      ],
      "metadata": {
        "colab": {
          "base_uri": "https://localhost:8080/"
        },
        "id": "YXNYJmfaqpP-",
        "outputId": "a764d519-453a-41d6-fc6b-b7bb24b5aa71"
      },
      "execution_count": null,
      "outputs": [
        {
          "output_type": "stream",
          "name": "stdout",
          "text": [
            "[1, 2, 3, 4, 5, 6]\n"
          ]
        }
      ]
    },
    {
      "cell_type": "markdown",
      "source": [
        "3. Insert the string \"Python\" at index 2 in the list [\"Java\", \"C++\", \"JavaScript\", \"Ruby\"]."
      ],
      "metadata": {
        "id": "oJYS9TRPrnsC"
      }
    },
    {
      "cell_type": "code",
      "source": [
        "Language = [\"Java\", \"C++\", \"JavaScript\", \"Ruby\"]\n",
        "Language.insert(2,\"Python\")\n",
        "print(Language)"
      ],
      "metadata": {
        "colab": {
          "base_uri": "https://localhost:8080/"
        },
        "id": "FaGupUwsrslh",
        "outputId": "351444a8-5929-4dfa-811c-01be97c393f7"
      },
      "execution_count": null,
      "outputs": [
        {
          "output_type": "stream",
          "name": "stdout",
          "text": [
            "['Java', 'C++', 'Python', 'JavaScript', 'Ruby']\n"
          ]
        }
      ]
    },
    {
      "cell_type": "markdown",
      "source": [
        "4. Remove the first occurrence of the number 10 from the list [10, 20, 30, 10, 40]."
      ],
      "metadata": {
        "id": "G-qfs2xhsfXu"
      }
    },
    {
      "cell_type": "code",
      "source": [
        "numbers = [10,20,30,10,40]\n",
        "numbers. remove(10)\n",
        "print(numbers)"
      ],
      "metadata": {
        "colab": {
          "base_uri": "https://localhost:8080/"
        },
        "id": "L0wtrV3FsqRk",
        "outputId": "796298d7-4ed5-4370-c86e-0427207c0845"
      },
      "execution_count": null,
      "outputs": [
        {
          "output_type": "stream",
          "name": "stdout",
          "text": [
            "[20, 30, 10, 40]\n"
          ]
        }
      ]
    },
    {
      "cell_type": "markdown",
      "source": [
        "5. Use the pop() method to remove the last element from [100, 200, 300, 400] and print the modified list."
      ],
      "metadata": {
        "id": "0jGWB-m6tpn_"
      }
    },
    {
      "cell_type": "code",
      "source": [
        "numbers =[100,200,300,400]\n",
        "numbers.pop()\n",
        "print(numbers)"
      ],
      "metadata": {
        "colab": {
          "base_uri": "https://localhost:8080/"
        },
        "id": "Ku50vapUtrWX",
        "outputId": "7a119fd5-5c2c-4c0d-cd86-d2182060e09c"
      },
      "execution_count": null,
      "outputs": [
        {
          "output_type": "stream",
          "name": "stdout",
          "text": [
            "[100, 200, 300]\n"
          ]
        }
      ]
    },
    {
      "cell_type": "markdown",
      "source": [
        "# **Intermediate List Operations**"
      ],
      "metadata": {
        "id": "8UIPWYRbuSua"
      }
    },
    {
      "cell_type": "markdown",
      "source": [
        "6. Count how many times the number 5 appears in the list [5, 10, 5, 20, 5, 30]"
      ],
      "metadata": {
        "id": "oKr3MzcMvt8N"
      }
    },
    {
      "cell_type": "code",
      "source": [
        "Numbers = [5, 10, 5, 20, 5, 30]\n",
        "count_5 = Numbers.count(5)\n",
        "print(count_5)\n"
      ],
      "metadata": {
        "colab": {
          "base_uri": "https://localhost:8080/"
        },
        "id": "hNLBgVjSv5Pz",
        "outputId": "64252074-5c24-4c7b-81f5-33bc964779f6"
      },
      "execution_count": null,
      "outputs": [
        {
          "output_type": "stream",
          "name": "stdout",
          "text": [
            "3\n"
          ]
        }
      ]
    },
    {
      "cell_type": "markdown",
      "source": [
        "7. Sort the list [9, 1, 8, 3, 5] in ascending and descending order.\n",
        "          \n",
        "  "
      ],
      "metadata": {
        "id": "KxznT4K1w2ZE"
      }
    },
    {
      "cell_type": "markdown",
      "source": [
        "# **Ascending Order**"
      ],
      "metadata": {
        "id": "6SsTBTYIyOGF"
      }
    },
    {
      "cell_type": "code",
      "source": [
        "Ascending =[9,1,8,3,5]\n",
        "Ascending.sort()\n",
        "print(Ascending)"
      ],
      "metadata": {
        "colab": {
          "base_uri": "https://localhost:8080/"
        },
        "id": "1TluFECmw5Fb",
        "outputId": "ac4c344e-d500-480f-a118-6c678049ee08"
      },
      "execution_count": null,
      "outputs": [
        {
          "output_type": "stream",
          "name": "stdout",
          "text": [
            "[1, 3, 5, 8, 9]\n"
          ]
        }
      ]
    },
    {
      "cell_type": "markdown",
      "source": [
        "# **Descending Order**"
      ],
      "metadata": {
        "id": "t1HGWs7-xsxq"
      }
    },
    {
      "cell_type": "code",
      "source": [
        "Descending =[9, 1, 8, 3, 5]\n",
        "Descending.sort(reverse=True)\n",
        "print(Descending)"
      ],
      "metadata": {
        "colab": {
          "base_uri": "https://localhost:8080/"
        },
        "id": "EYK-tthHyHng",
        "outputId": "fb4e473f-ba64-4192-99bf-86710add8c02"
      },
      "execution_count": null,
      "outputs": [
        {
          "output_type": "stream",
          "name": "stdout",
          "text": [
            "[9, 8, 5, 3, 1]\n"
          ]
        }
      ]
    },
    {
      "cell_type": "markdown",
      "source": [
        "8. Reverse the list [“apple”, “banana”, “cherry”] using the reverse() method.\n"
      ],
      "metadata": {
        "id": "QeKamv9jy5zK"
      }
    },
    {
      "cell_type": "code",
      "source": [
        "Fruits= [\"apple\", \"banana\", \"cherry\"]\n",
        "Fruits.reverse()\n",
        "print(Fruits)"
      ],
      "metadata": {
        "colab": {
          "base_uri": "https://localhost:8080/"
        },
        "id": "RUGpJ1TNy7hc",
        "outputId": "7767b24e-641d-464b-ce74-8d86ce757634"
      },
      "execution_count": null,
      "outputs": [
        {
          "output_type": "stream",
          "name": "stdout",
          "text": [
            "['cherry', 'banana', 'apple']\n"
          ]
        }
      ]
    },
    {
      "cell_type": "markdown",
      "source": [
        "9. Create a copy of the list [1, 2, 3, 4, 5] and store it in another variable. Modify the copied list and print both lists."
      ],
      "metadata": {
        "id": "8XFWTSOXzwA5"
      }
    },
    {
      "cell_type": "code",
      "source": [
        "original_list = [1,2,3,4,5]\n",
        "copyright_list = original_list.copy()\n",
        "copyright_list.append(10)\n",
        "print(\"Original-List:\", original_list,)\n",
        "print( \"CopyRight_List:\", copyright_list)"
      ],
      "metadata": {
        "colab": {
          "base_uri": "https://localhost:8080/"
        },
        "id": "AyCY-Aquz-pO",
        "outputId": "912294bf-317c-4123-d02e-8ffe4d37edaf"
      },
      "execution_count": null,
      "outputs": [
        {
          "output_type": "stream",
          "name": "stdout",
          "text": [
            "Original-List: [1, 2, 3, 4, 5]\n",
            "CopyRight_List: [1, 2, 3, 4, 5, 10]\n"
          ]
        }
      ]
    },
    {
      "cell_type": "markdown",
      "source": [
        "10. Clear all elements from a list [“hello”, “world”, “python”] using the clear() method.\n"
      ],
      "metadata": {
        "id": "FOlzcoDq1V0_"
      }
    },
    {
      "cell_type": "code",
      "source": [
        "Sentence = [\"hello\", \"world\", \"python\"]\n",
        "Sentence.clear()\n",
        "print(Sentence)"
      ],
      "metadata": {
        "colab": {
          "base_uri": "https://localhost:8080/"
        },
        "id": "5KapDFOV1aK4",
        "outputId": "085b5f8f-c9d9-4a9e-884d-f2a2ac418f67"
      },
      "execution_count": null,
      "outputs": [
        {
          "output_type": "stream",
          "name": "stdout",
          "text": [
            "[]\n"
          ]
        }
      ]
    },
    {
      "cell_type": "markdown",
      "source": [
        "# **Tuple-Based Questions**"
      ],
      "metadata": {
        "id": "ihDQ5wlG18v6"
      }
    },
    {
      "cell_type": "markdown",
      "source": [
        "11. Create a tuple with 5 different fruits and print the third fruit."
      ],
      "metadata": {
        "id": "Yzgm6bV92OHl"
      }
    },
    {
      "cell_type": "code",
      "source": [
        "Fruits = [\"Apple\",\"Orange\",\"Banana\",\"Cherry\",\"Pineapple\"]\n",
        "print(Fruits[2])"
      ],
      "metadata": {
        "colab": {
          "base_uri": "https://localhost:8080/"
        },
        "id": "Z8WwiIX92PQi",
        "outputId": "55368b45-95cf-4c7f-dca7-837058ef9c0d"
      },
      "execution_count": null,
      "outputs": [
        {
          "output_type": "stream",
          "name": "stdout",
          "text": [
            "Banana\n"
          ]
        }
      ]
    },
    {
      "cell_type": "markdown",
      "source": [
        "Convert the tuple (10, 20, 30, 40, 50) into a list, remove the number 30, and convert it back into a tuple."
      ],
      "metadata": {
        "id": "I1DIuwi23Chu"
      }
    },
    {
      "cell_type": "code",
      "source": [
        "numbers = [10, 20, 30, 40, 50]\n",
        "numbers.remove(30)\n",
        "print(numbers)"
      ],
      "metadata": {
        "colab": {
          "base_uri": "https://localhost:8080/"
        },
        "id": "g4z9vR5d2C_q",
        "outputId": "aeee5f59-8559-492b-ac80-25def5188f40"
      },
      "execution_count": null,
      "outputs": [
        {
          "output_type": "stream",
          "name": "stdout",
          "text": [
            "[10, 20, 40, 50]\n"
          ]
        }
      ]
    },
    {
      "cell_type": "markdown",
      "source": [],
      "metadata": {
        "id": "Wy0hyNL43iWB"
      }
    },
    {
      "cell_type": "markdown",
      "source": [
        "13. Try to append an element to the tuple (“A”, “B”, “C”). What happens? How can you modify a tuple indirectly?\n"
      ],
      "metadata": {
        "id": "tsQJkyTJ3kTR"
      }
    },
    {
      "cell_type": "code",
      "source": [
        "Letters = (\"A\",\"B\",\"C\")\n",
        "\n",
        "# Indirect modification by converting to list\n",
        "Letters = list(Letters)\n",
        "Letters.append(\"D\")\n",
        "Letters = tuple(Letters)\n",
        "print(\"Indirect\", Letters)\n",
        "\n",
        "# Alternative: Using tuple concatenation\n",
        "Letters = Letters + (\"E\",)\n",
        "print(\"Alternative\", Letters)"
      ],
      "metadata": {
        "colab": {
          "base_uri": "https://localhost:8080/"
        },
        "id": "DLxGm4Qx3l36",
        "outputId": "d8027f8b-8714-4a2c-b3a8-10f810bea378"
      },
      "execution_count": null,
      "outputs": [
        {
          "output_type": "stream",
          "name": "stdout",
          "text": [
            "Indirect ('A', 'B', 'C', 'D')\n",
            "Alternative ('A', 'B', 'C', 'D', 'E')\n"
          ]
        }
      ]
    },
    {
      "cell_type": "markdown",
      "source": [
        "14. Unpack the tuple (100, 200, 300) into three separate variables and print them."
      ],
      "metadata": {
        "id": "UflAjr-75ZgX"
      }
    },
    {
      "cell_type": "code",
      "source": [
        "Numbers = (100,200,300)\n",
        "number1, number2, number3 = Numbers\n",
        "print(number1)\n",
        "print(number2)\n",
        "print(number3)\n"
      ],
      "metadata": {
        "colab": {
          "base_uri": "https://localhost:8080/"
        },
        "id": "_sS2_LYE5bsC",
        "outputId": "9e0e402d-847c-4682-9ec1-d1de44cfc6b2"
      },
      "execution_count": null,
      "outputs": [
        {
          "output_type": "stream",
          "name": "stdout",
          "text": [
            "100\n",
            "200\n",
            "300\n"
          ]
        }
      ]
    },
    {
      "cell_type": "markdown",
      "source": [
        "15. Count the occurrences of 7 in the tuple (7, 1, 7, 3, 7, 5).\n"
      ],
      "metadata": {
        "id": "YxQpkkwd6MHW"
      }
    },
    {
      "cell_type": "code",
      "source": [
        "numbers = (7,1,7,3,7,5,7,7)\n",
        "count_7 = numbers.count(7)\n",
        "print(count_7)"
      ],
      "metadata": {
        "colab": {
          "base_uri": "https://localhost:8080/"
        },
        "id": "O9pgRs6I6OCu",
        "outputId": "054f0264-8fd8-4e37-9680-88481bbdaa08"
      },
      "execution_count": null,
      "outputs": [
        {
          "output_type": "stream",
          "name": "stdout",
          "text": [
            "5\n"
          ]
        }
      ]
    },
    {
      "cell_type": "markdown",
      "source": [
        "# **Advanced Problems**"
      ],
      "metadata": {
        "id": "Ukb-z2N3y0op"
      }
    },
    {
      "cell_type": "markdown",
      "source": [
        "16. Write a function that takes a list and returns a new list with all even numbers"
      ],
      "metadata": {
        "id": "c6updPbu3AMd"
      }
    },
    {
      "cell_type": "code",
      "source": [
        "\n",
        "\n",
        "def remove_evens(lst):\n",
        "    return [x for x in lst if x % 2 != 0]\n",
        "\n",
        "numbers = [1, 2, 3, 4, 5, 6, 7, 8, 9, 10]\n",
        "filtered_list = remove_evens(numbers)\n",
        "\n",
        "print(filtered_list)\n",
        "\n"
      ],
      "metadata": {
        "colab": {
          "base_uri": "https://localhost:8080/"
        },
        "id": "Chtlx6l7zOUu",
        "outputId": "9c461d4d-8ad3-49be-f734-400c3d4f16e6"
      },
      "execution_count": 3,
      "outputs": [
        {
          "output_type": "stream",
          "name": "stdout",
          "text": [
            "[1, 3, 5, 7, 9]\n"
          ]
        }
      ]
    },
    {
      "cell_type": "markdown",
      "source": [
        "17. Create a function that accepts a list and returns a new list with elements sorted in descending order without using the sort() method."
      ],
      "metadata": {
        "id": "6ypb56E43adn"
      }
    },
    {
      "cell_type": "code",
      "source": [
        "def customer_sort_Descending(lst):\n",
        "    return sorted(lst, reverse=True)\n",
        "\n",
        "numbers = [15, 22, 9, 11, 13, 25]\n",
        "print(customer_sort_Descending(numbers))\n"
      ],
      "metadata": {
        "colab": {
          "base_uri": "https://localhost:8080/"
        },
        "id": "L4uGsR3c3d8m",
        "outputId": "910fa7c8-b88f-4ce0-8392-a34dee2f2687"
      },
      "execution_count": 52,
      "outputs": [
        {
          "output_type": "stream",
          "name": "stdout",
          "text": [
            "[25, 22, 15, 13, 11, 9]\n"
          ]
        }
      ]
    },
    {
      "cell_type": "markdown",
      "source": [
        "18. Given a list of numbers, write a program to remove all duplicate elements and print the unique elements.\n"
      ],
      "metadata": {
        "id": "xxrrJzlf5qXp"
      }
    },
    {
      "cell_type": "code",
      "source": [
        "def remove_duplicate(lst):\n",
        "    return list(set(lst))\n",
        "\n",
        "numbers = [1, 5, 3, 4, 5, 6, 5, 8, 9, 10, 5, 5, 11, 5]\n",
        "unique_numbers = remove_duplicate(numbers)\n",
        "print(unique_numbers)"
      ],
      "metadata": {
        "colab": {
          "base_uri": "https://localhost:8080/"
        },
        "id": "LHfsGTv45uG1",
        "outputId": "440e7004-4b57-4563-f4f0-a00fc4f43f7d"
      },
      "execution_count": 50,
      "outputs": [
        {
          "output_type": "stream",
          "name": "stdout",
          "text": [
            "[1, 3, 4, 5, 6, 8, 9, 10, 11]\n"
          ]
        }
      ]
    },
    {
      "cell_type": "markdown",
      "source": [
        "19. Given a tuple of names (“Alice”, “Bob”, “Charlie”, “Alice”, “David”), convert it into a list, remove duplicates, and convert it back to a tuple."
      ],
      "metadata": {
        "id": "JMTp071G7YI2"
      }
    },
    {
      "cell_type": "code",
      "source": [
        "name_tuple =(\"Alice\", \"Bob\", \"Charlie\", \"Alice\", \"David\")\n",
        "name_list = list(name_tuple)\n",
        "name_list = list(set(name_list))\n",
        "name_tuple = tuple(name_list)\n",
        "print(name_tuple)"
      ],
      "metadata": {
        "colab": {
          "base_uri": "https://localhost:8080/"
        },
        "id": "E4BnsnRs7iw2",
        "outputId": "f2fbe600-2ed9-4311-9c29-28808c3a6eeb"
      },
      "execution_count": 46,
      "outputs": [
        {
          "output_type": "stream",
          "name": "stdout",
          "text": [
            "('David', 'Bob', 'Alice', 'Charlie')\n"
          ]
        }
      ]
    },
    {
      "cell_type": "markdown",
      "source": [
        "20. Create a program that takes a list of mixed data types (int, str, float) and separates integers into one list, strings into another, and floats into another."
      ],
      "metadata": {
        "id": "Y4-zw_aE80pm"
      }
    },
    {
      "cell_type": "code",
      "source": [
        "def separate_data(mixed_list):\n",
        "    int_list = []\n",
        "    str_list = []\n",
        "    float_list = []\n",
        "\n",
        "    for item in mixed_list:\n",
        "        if isinstance(item, int):\n",
        "            int_list.append(item)\n",
        "        elif isinstance(item, str):\n",
        "            str_list.append(item)\n",
        "        elif isinstance(item, float):\n",
        "            float_list.append(item)\n",
        "\n",
        "    return int_list, str_list, float_list\n",
        "\n",
        "# Example usage:\n",
        "mixed_data = [1, \"hello\", 2.5, 3, \"world\", 4.8, 7 ,\" Python\"]\n",
        "integers, strings, floats = separate_data(mixed_data)\n",
        "print(\"Integers:\", integers)\n",
        "print(\"Strings:\", strings)\n",
        "print(\"Floats:\", floats)\n"
      ],
      "metadata": {
        "colab": {
          "base_uri": "https://localhost:8080/"
        },
        "id": "a1j8hwAr86ta",
        "outputId": "16bebc5f-c029-4b3a-9dae-5e5c8b3e4e45"
      },
      "execution_count": 56,
      "outputs": [
        {
          "output_type": "stream",
          "name": "stdout",
          "text": [
            "Integers: [1, 3, 7]\n",
            "Strings: ['hello', 'world', ' Python']\n",
            "Floats: [2.5, 4.8]\n"
          ]
        }
      ]
    }
  ]
}